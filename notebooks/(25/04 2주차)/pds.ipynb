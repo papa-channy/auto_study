{
 "cells": [
  {
   "cell_type": "code",
   "execution_count": null,
   "id": "e6c43cf1",
   "metadata": {},
   "outputs": [],
   "source": [
    "import pandas as pd\n",
    "import seaborn as sns"
   ]
  }
 ],
 "metadata": {},
 "nbformat": 4,
 "nbformat_minor": 5
}
